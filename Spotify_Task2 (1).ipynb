{
 "cells": [
  {
   "cell_type": "code",
   "execution_count": 1,
   "metadata": {},
   "outputs": [],
   "source": [
    "from glob import glob\n",
    "import pandas as pd\n",
    "import seaborn as sns\n",
    "import numpy as np\n",
    "import matplotlib.pyplot as plt"
   ]
  },
  {
   "cell_type": "code",
   "execution_count": 2,
   "metadata": {},
   "outputs": [],
   "source": [
    "\n",
    "from sklearn.linear_model import LogisticRegression \n",
    "\n",
    "from sklearn.tree import DecisionTreeClassifier\n",
    "\n",
    "from sklearn import model_selection\n",
    "from sklearn.model_selection import train_test_split\n",
    "\n",
    "from sklearn.metrics import confusion_matrix\n",
    "from sklearn.metrics import classification_report"
   ]
  },
  {
   "cell_type": "code",
   "execution_count": 3,
   "metadata": {},
   "outputs": [],
   "source": [
    "# Let's load all the datasets\n",
    "data_00 = pd.read_csv(\"dataset-of-00s.csv\")\n",
    "data_10 = pd.read_csv(\"dataset-of-10s.csv\")\n",
    "data_60 = pd.read_csv(\"dataset-of-60s.csv\")\n",
    "data_70 = pd.read_csv(\"dataset-of-70s.csv\")\n",
    "data_80 = pd.read_csv(\"dataset-of-80s.csv\")\n",
    "data_90 = pd.read_csv(\"dataset-of-90s.csv\")"
   ]
  },
  {
   "cell_type": "code",
   "execution_count": 4,
   "metadata": {},
   "outputs": [],
   "source": [
    "stacked = sorted(glob('dataset-of-*.csv'))"
   ]
  },
  {
   "cell_type": "code",
   "execution_count": 5,
   "metadata": {},
   "outputs": [],
   "source": [
    "final_data = pd.concat((pd.read_csv(file).assign(filename = file)\n",
    "          for file in stacked),ignore_index = True)"
   ]
  },
  {
   "cell_type": "code",
   "execution_count": 6,
   "metadata": {},
   "outputs": [],
   "source": [
    "from sklearn.ensemble import RandomForestClassifier\n",
    "from sklearn.neighbors import KNeighborsClassifier"
   ]
  },
  {
   "cell_type": "code",
   "execution_count": 7,
   "metadata": {},
   "outputs": [
    {
     "data": {
      "text/html": [
       "<div>\n",
       "<style scoped>\n",
       "    .dataframe tbody tr th:only-of-type {\n",
       "        vertical-align: middle;\n",
       "    }\n",
       "\n",
       "    .dataframe tbody tr th {\n",
       "        vertical-align: top;\n",
       "    }\n",
       "\n",
       "    .dataframe thead th {\n",
       "        text-align: right;\n",
       "    }\n",
       "</style>\n",
       "<table border=\"1\" class=\"dataframe\">\n",
       "  <thead>\n",
       "    <tr style=\"text-align: right;\">\n",
       "      <th></th>\n",
       "      <th>track</th>\n",
       "      <th>artist</th>\n",
       "      <th>uri</th>\n",
       "      <th>danceability</th>\n",
       "      <th>energy</th>\n",
       "      <th>key</th>\n",
       "      <th>loudness</th>\n",
       "      <th>mode</th>\n",
       "      <th>speechiness</th>\n",
       "      <th>acousticness</th>\n",
       "      <th>instrumentalness</th>\n",
       "      <th>liveness</th>\n",
       "      <th>valence</th>\n",
       "      <th>tempo</th>\n",
       "      <th>duration_ms</th>\n",
       "      <th>time_signature</th>\n",
       "      <th>chorus_hit</th>\n",
       "      <th>sections</th>\n",
       "      <th>target</th>\n",
       "      <th>filename</th>\n",
       "    </tr>\n",
       "  </thead>\n",
       "  <tbody>\n",
       "    <tr>\n",
       "      <th>0</th>\n",
       "      <td>Lucky Man</td>\n",
       "      <td>Montgomery Gentry</td>\n",
       "      <td>spotify:track:4GiXBCUF7H6YfNQsnBRIzl</td>\n",
       "      <td>0.578</td>\n",
       "      <td>0.471</td>\n",
       "      <td>4</td>\n",
       "      <td>-7.270</td>\n",
       "      <td>1</td>\n",
       "      <td>0.0289</td>\n",
       "      <td>0.368000</td>\n",
       "      <td>0.00000</td>\n",
       "      <td>0.1590</td>\n",
       "      <td>0.532</td>\n",
       "      <td>133.061</td>\n",
       "      <td>196707</td>\n",
       "      <td>4</td>\n",
       "      <td>30.88059</td>\n",
       "      <td>13</td>\n",
       "      <td>1</td>\n",
       "      <td>dataset-of-00s.csv</td>\n",
       "    </tr>\n",
       "    <tr>\n",
       "      <th>1</th>\n",
       "      <td>On The Hotline</td>\n",
       "      <td>Pretty Ricky</td>\n",
       "      <td>spotify:track:1zyqZONW985Cs4osz9wlsu</td>\n",
       "      <td>0.704</td>\n",
       "      <td>0.854</td>\n",
       "      <td>10</td>\n",
       "      <td>-5.477</td>\n",
       "      <td>0</td>\n",
       "      <td>0.1830</td>\n",
       "      <td>0.018500</td>\n",
       "      <td>0.00000</td>\n",
       "      <td>0.1480</td>\n",
       "      <td>0.688</td>\n",
       "      <td>92.988</td>\n",
       "      <td>242587</td>\n",
       "      <td>4</td>\n",
       "      <td>41.51106</td>\n",
       "      <td>10</td>\n",
       "      <td>1</td>\n",
       "      <td>dataset-of-00s.csv</td>\n",
       "    </tr>\n",
       "    <tr>\n",
       "      <th>2</th>\n",
       "      <td>Clouds Of Dementia</td>\n",
       "      <td>Candlemass</td>\n",
       "      <td>spotify:track:6cHZf7RbxXCKwEkgAZT4mY</td>\n",
       "      <td>0.162</td>\n",
       "      <td>0.836</td>\n",
       "      <td>9</td>\n",
       "      <td>-3.009</td>\n",
       "      <td>1</td>\n",
       "      <td>0.0473</td>\n",
       "      <td>0.000111</td>\n",
       "      <td>0.00457</td>\n",
       "      <td>0.1740</td>\n",
       "      <td>0.300</td>\n",
       "      <td>86.964</td>\n",
       "      <td>338893</td>\n",
       "      <td>4</td>\n",
       "      <td>65.32887</td>\n",
       "      <td>13</td>\n",
       "      <td>0</td>\n",
       "      <td>dataset-of-00s.csv</td>\n",
       "    </tr>\n",
       "    <tr>\n",
       "      <th>3</th>\n",
       "      <td>Heavy Metal, Raise Hell!</td>\n",
       "      <td>Zwartketterij</td>\n",
       "      <td>spotify:track:2IjBPp2vMeX7LggzRN3iSX</td>\n",
       "      <td>0.188</td>\n",
       "      <td>0.994</td>\n",
       "      <td>4</td>\n",
       "      <td>-3.745</td>\n",
       "      <td>1</td>\n",
       "      <td>0.1660</td>\n",
       "      <td>0.000007</td>\n",
       "      <td>0.07840</td>\n",
       "      <td>0.1920</td>\n",
       "      <td>0.333</td>\n",
       "      <td>148.440</td>\n",
       "      <td>255667</td>\n",
       "      <td>4</td>\n",
       "      <td>58.59528</td>\n",
       "      <td>9</td>\n",
       "      <td>0</td>\n",
       "      <td>dataset-of-00s.csv</td>\n",
       "    </tr>\n",
       "    <tr>\n",
       "      <th>4</th>\n",
       "      <td>I Got A Feelin'</td>\n",
       "      <td>Billy Currington</td>\n",
       "      <td>spotify:track:1tF370eYXUcWwkIvaq3IGz</td>\n",
       "      <td>0.630</td>\n",
       "      <td>0.764</td>\n",
       "      <td>2</td>\n",
       "      <td>-4.353</td>\n",
       "      <td>1</td>\n",
       "      <td>0.0275</td>\n",
       "      <td>0.363000</td>\n",
       "      <td>0.00000</td>\n",
       "      <td>0.1250</td>\n",
       "      <td>0.631</td>\n",
       "      <td>112.098</td>\n",
       "      <td>193760</td>\n",
       "      <td>4</td>\n",
       "      <td>22.62384</td>\n",
       "      <td>10</td>\n",
       "      <td>1</td>\n",
       "      <td>dataset-of-00s.csv</td>\n",
       "    </tr>\n",
       "    <tr>\n",
       "      <th>5</th>\n",
       "      <td>Dantzig Station</td>\n",
       "      <td>State Of Art</td>\n",
       "      <td>spotify:track:5Z3nrC0JbJmXaOGiXTuNFk</td>\n",
       "      <td>0.726</td>\n",
       "      <td>0.837</td>\n",
       "      <td>11</td>\n",
       "      <td>-7.223</td>\n",
       "      <td>0</td>\n",
       "      <td>0.0965</td>\n",
       "      <td>0.373000</td>\n",
       "      <td>0.26800</td>\n",
       "      <td>0.1360</td>\n",
       "      <td>0.969</td>\n",
       "      <td>135.347</td>\n",
       "      <td>192720</td>\n",
       "      <td>4</td>\n",
       "      <td>28.29051</td>\n",
       "      <td>10</td>\n",
       "      <td>0</td>\n",
       "      <td>dataset-of-00s.csv</td>\n",
       "    </tr>\n",
       "    <tr>\n",
       "      <th>6</th>\n",
       "      <td>Divorced</td>\n",
       "      <td>Blacklisted</td>\n",
       "      <td>spotify:track:0iAdSLiQBIizTAiLUP7p5E</td>\n",
       "      <td>0.365</td>\n",
       "      <td>0.922</td>\n",
       "      <td>1</td>\n",
       "      <td>-2.644</td>\n",
       "      <td>1</td>\n",
       "      <td>0.0710</td>\n",
       "      <td>0.002850</td>\n",
       "      <td>0.00000</td>\n",
       "      <td>0.3210</td>\n",
       "      <td>0.290</td>\n",
       "      <td>77.250</td>\n",
       "      <td>89427</td>\n",
       "      <td>4</td>\n",
       "      <td>45.77202</td>\n",
       "      <td>4</td>\n",
       "      <td>0</td>\n",
       "      <td>dataset-of-00s.csv</td>\n",
       "    </tr>\n",
       "    <tr>\n",
       "      <th>7</th>\n",
       "      <td>Where I Come From</td>\n",
       "      <td>Alan Jackson</td>\n",
       "      <td>spotify:track:6ej1QJ8eIYmhsyTlvgDajy</td>\n",
       "      <td>0.726</td>\n",
       "      <td>0.631</td>\n",
       "      <td>11</td>\n",
       "      <td>-8.136</td>\n",
       "      <td>0</td>\n",
       "      <td>0.0334</td>\n",
       "      <td>0.220000</td>\n",
       "      <td>0.00000</td>\n",
       "      <td>0.1930</td>\n",
       "      <td>0.746</td>\n",
       "      <td>124.711</td>\n",
       "      <td>239240</td>\n",
       "      <td>4</td>\n",
       "      <td>35.59732</td>\n",
       "      <td>10</td>\n",
       "      <td>1</td>\n",
       "      <td>dataset-of-00s.csv</td>\n",
       "    </tr>\n",
       "    <tr>\n",
       "      <th>8</th>\n",
       "      <td>Nothin' To Die For</td>\n",
       "      <td>Tim McGraw</td>\n",
       "      <td>spotify:track:3lRSz6HujrSy9b3LXg2Kq9</td>\n",
       "      <td>0.481</td>\n",
       "      <td>0.786</td>\n",
       "      <td>10</td>\n",
       "      <td>-5.654</td>\n",
       "      <td>1</td>\n",
       "      <td>0.0288</td>\n",
       "      <td>0.053800</td>\n",
       "      <td>0.00000</td>\n",
       "      <td>0.0759</td>\n",
       "      <td>0.389</td>\n",
       "      <td>153.105</td>\n",
       "      <td>253640</td>\n",
       "      <td>4</td>\n",
       "      <td>19.65701</td>\n",
       "      <td>11</td>\n",
       "      <td>1</td>\n",
       "      <td>dataset-of-00s.csv</td>\n",
       "    </tr>\n",
       "    <tr>\n",
       "      <th>9</th>\n",
       "      <td>I Want to Know Your Plans</td>\n",
       "      <td>Say Anything</td>\n",
       "      <td>spotify:track:3pjnCLIHbRczUjenWOEo56</td>\n",
       "      <td>0.647</td>\n",
       "      <td>0.324</td>\n",
       "      <td>7</td>\n",
       "      <td>-9.679</td>\n",
       "      <td>1</td>\n",
       "      <td>0.0377</td>\n",
       "      <td>0.354000</td>\n",
       "      <td>0.00000</td>\n",
       "      <td>0.1150</td>\n",
       "      <td>0.344</td>\n",
       "      <td>124.213</td>\n",
       "      <td>314286</td>\n",
       "      <td>3</td>\n",
       "      <td>32.66343</td>\n",
       "      <td>16</td>\n",
       "      <td>0</td>\n",
       "      <td>dataset-of-00s.csv</td>\n",
       "    </tr>\n",
       "  </tbody>\n",
       "</table>\n",
       "</div>"
      ],
      "text/plain": [
       "                       track             artist  \\\n",
       "0                  Lucky Man  Montgomery Gentry   \n",
       "1             On The Hotline       Pretty Ricky   \n",
       "2         Clouds Of Dementia         Candlemass   \n",
       "3   Heavy Metal, Raise Hell!      Zwartketterij   \n",
       "4            I Got A Feelin'   Billy Currington   \n",
       "5            Dantzig Station       State Of Art   \n",
       "6                   Divorced        Blacklisted   \n",
       "7          Where I Come From       Alan Jackson   \n",
       "8         Nothin' To Die For         Tim McGraw   \n",
       "9  I Want to Know Your Plans       Say Anything   \n",
       "\n",
       "                                    uri  danceability  energy  key  loudness  \\\n",
       "0  spotify:track:4GiXBCUF7H6YfNQsnBRIzl         0.578   0.471    4    -7.270   \n",
       "1  spotify:track:1zyqZONW985Cs4osz9wlsu         0.704   0.854   10    -5.477   \n",
       "2  spotify:track:6cHZf7RbxXCKwEkgAZT4mY         0.162   0.836    9    -3.009   \n",
       "3  spotify:track:2IjBPp2vMeX7LggzRN3iSX         0.188   0.994    4    -3.745   \n",
       "4  spotify:track:1tF370eYXUcWwkIvaq3IGz         0.630   0.764    2    -4.353   \n",
       "5  spotify:track:5Z3nrC0JbJmXaOGiXTuNFk         0.726   0.837   11    -7.223   \n",
       "6  spotify:track:0iAdSLiQBIizTAiLUP7p5E         0.365   0.922    1    -2.644   \n",
       "7  spotify:track:6ej1QJ8eIYmhsyTlvgDajy         0.726   0.631   11    -8.136   \n",
       "8  spotify:track:3lRSz6HujrSy9b3LXg2Kq9         0.481   0.786   10    -5.654   \n",
       "9  spotify:track:3pjnCLIHbRczUjenWOEo56         0.647   0.324    7    -9.679   \n",
       "\n",
       "   mode  speechiness  acousticness  instrumentalness  liveness  valence  \\\n",
       "0     1       0.0289      0.368000           0.00000    0.1590    0.532   \n",
       "1     0       0.1830      0.018500           0.00000    0.1480    0.688   \n",
       "2     1       0.0473      0.000111           0.00457    0.1740    0.300   \n",
       "3     1       0.1660      0.000007           0.07840    0.1920    0.333   \n",
       "4     1       0.0275      0.363000           0.00000    0.1250    0.631   \n",
       "5     0       0.0965      0.373000           0.26800    0.1360    0.969   \n",
       "6     1       0.0710      0.002850           0.00000    0.3210    0.290   \n",
       "7     0       0.0334      0.220000           0.00000    0.1930    0.746   \n",
       "8     1       0.0288      0.053800           0.00000    0.0759    0.389   \n",
       "9     1       0.0377      0.354000           0.00000    0.1150    0.344   \n",
       "\n",
       "     tempo  duration_ms  time_signature  chorus_hit  sections  target  \\\n",
       "0  133.061       196707               4    30.88059        13       1   \n",
       "1   92.988       242587               4    41.51106        10       1   \n",
       "2   86.964       338893               4    65.32887        13       0   \n",
       "3  148.440       255667               4    58.59528         9       0   \n",
       "4  112.098       193760               4    22.62384        10       1   \n",
       "5  135.347       192720               4    28.29051        10       0   \n",
       "6   77.250        89427               4    45.77202         4       0   \n",
       "7  124.711       239240               4    35.59732        10       1   \n",
       "8  153.105       253640               4    19.65701        11       1   \n",
       "9  124.213       314286               3    32.66343        16       0   \n",
       "\n",
       "             filename  \n",
       "0  dataset-of-00s.csv  \n",
       "1  dataset-of-00s.csv  \n",
       "2  dataset-of-00s.csv  \n",
       "3  dataset-of-00s.csv  \n",
       "4  dataset-of-00s.csv  \n",
       "5  dataset-of-00s.csv  \n",
       "6  dataset-of-00s.csv  \n",
       "7  dataset-of-00s.csv  \n",
       "8  dataset-of-00s.csv  \n",
       "9  dataset-of-00s.csv  "
      ]
     },
     "execution_count": 7,
     "metadata": {},
     "output_type": "execute_result"
    }
   ],
   "source": [
    "final_data.head(10)"
   ]
  },
  {
   "cell_type": "code",
   "execution_count": 8,
   "metadata": {},
   "outputs": [],
   "source": [
    "from sklearn.linear_model import LogisticRegression\n",
    "from sklearn.tree import DecisionTreeClassifier\n",
    "\n",
    "\n",
    "\n",
    "from sklearn.metrics import make_scorer, accuracy_score, roc_auc_score \n",
    "from sklearn.model_selection import GridSearchCV\n",
    "from sklearn.model_selection import train_test_split\n",
    "feature_names = list(final_data.columns.values)\n",
    "feature_names.remove('target')\n",
    "feature_names.remove('track')\n",
    "feature_names.remove('uri')\n",
    "feature_names.remove('filename')\n",
    "feature_names.remove('artist')\n",
    "\n",
    "X = final_data[feature_names]\n",
    "Y = final_data['target']\n",
    "\n",
    "\n",
    "X_train, X_test, Y_train, Y_test = train_test_split(X, Y, test_size=0.2, random_state=100)"
   ]
  },
  {
   "cell_type": "markdown",
   "metadata": {},
   "source": [
    "# MODEL BUILDING"
   ]
  },
  {
   "cell_type": "markdown",
   "metadata": {},
   "source": [
    "\n",
    "# LOGISTIC REGRESSION\n"
   ]
  },
  {
   "cell_type": "code",
   "execution_count": 9,
   "metadata": {},
   "outputs": [
    {
     "name": "stdout",
     "output_type": "stream",
     "text": [
      "Accuracy: 0.5075407443444417\n",
      "AUC: 0.5075155986719065\n"
     ]
    }
   ],
   "source": [
    "LR_Model = LogisticRegression()\n",
    "LR_Model.fit(X_train, Y_train)\n",
    "LR_Predict = LR_Model.predict(X_test)\n",
    "LR_Accuracy = accuracy_score(Y_test, LR_Predict)\n",
    "print(\"Accuracy: \" + str(LR_Accuracy))\n",
    "\n",
    "LR_AUC = roc_auc_score(Y_test, LR_Predict) \n",
    "print(\"AUC: \" + str(LR_AUC))"
   ]
  },
  {
   "cell_type": "code",
   "execution_count": 10,
   "metadata": {},
   "outputs": [
    {
     "name": "stdout",
     "output_type": "stream",
     "text": [
      "[[1873 2236]\n",
      " [1813 2300]]\n"
     ]
    }
   ],
   "source": [
    "cm = confusion_matrix(Y_test, LR_Predict)\n",
    "print(cm)"
   ]
  },
  {
   "cell_type": "code",
   "execution_count": 11,
   "metadata": {},
   "outputs": [],
   "source": [
    "def performance(cm):\n",
    "    TN = cm[0, 0]\n",
    "    FP = cm[0, 1]\n",
    "    FN = cm[1, 0]\n",
    "    TP = cm[1, 1]\n",
    "    \n",
    "    # Sensitivity, hit rate, recall, or true positive rate\n",
    "    TPR = TP/(TP+FN)\n",
    "    # Specificity or true negative rate\n",
    "    TNR = TN/(TN+FP) \n",
    "    # Precision or positive predictive value\n",
    "    PPV = TP/(TP+FP)\n",
    "    # Negative predictive value\n",
    "    NPV = TN/(TN+FN)\n",
    "    # Fall out or false positive rate\n",
    "    FPR = FP/(FP+TN)\n",
    "    # False negative rate\n",
    "    FNR = FN/(TP+FN)\n",
    "    # False discovery rate\n",
    "    FDR = FP/(TP+FP)\n",
    "    # Overall accuracy\n",
    "    ACC = (TP+TN)/(TP+FP+FN+TN) \n",
    "    \n",
    "    print('Sensitivity : ', TPR)\n",
    "    print('Specificity : ', TNR)\n",
    "    print('Precision : ', PPV)\n",
    "    print('Negative predictive value : ', NPV)\n",
    "    print('False positive rate : ', FPR)\n",
    "    print('False negative rate : ', FNR)\n",
    "    print('False discovery rate : ', FDR)\n",
    "    print('Accuracy : ', ACC)"
   ]
  },
  {
   "cell_type": "code",
   "execution_count": 12,
   "metadata": {},
   "outputs": [
    {
     "name": "stdout",
     "output_type": "stream",
     "text": [
      "Sensitivity :  0.5592025285679553\n",
      "Specificity :  0.45582866877585787\n",
      "Precision :  0.5070546737213404\n",
      "Negative predictive value :  0.5081389039609333\n",
      "False positive rate :  0.5441713312241421\n",
      "False negative rate :  0.44079747143204473\n",
      "False discovery rate :  0.4929453262786596\n",
      "Accuracy :  0.5075407443444417\n"
     ]
    }
   ],
   "source": [
    "performance(cm)"
   ]
  },
  {
   "cell_type": "code",
   "execution_count": 13,
   "metadata": {},
   "outputs": [
    {
     "name": "stdout",
     "output_type": "stream",
     "text": [
      "              precision    recall  f1-score   support\n",
      "\n",
      "           0       0.51      0.46      0.48      4109\n",
      "           1       0.51      0.56      0.53      4113\n",
      "\n",
      "    accuracy                           0.51      8222\n",
      "   macro avg       0.51      0.51      0.51      8222\n",
      "weighted avg       0.51      0.51      0.51      8222\n",
      "\n"
     ]
    }
   ],
   "source": [
    "print(classification_report(Y_test, LR_Predict))"
   ]
  },
  {
   "cell_type": "markdown",
   "metadata": {},
   "source": [
    "# DECISION TREE"
   ]
  },
  {
   "cell_type": "code",
   "execution_count": 14,
   "metadata": {},
   "outputs": [
    {
     "name": "stdout",
     "output_type": "stream",
     "text": [
      "Accuracy: 0.7098029676477743\n",
      "AUC: 0.7098045557370314\n"
     ]
    }
   ],
   "source": [
    "DT_Model = DecisionTreeClassifier()\n",
    "DT_Model.fit(X_train, Y_train)\n",
    "DT_Predict = DT_Model.predict(X_test)\n",
    "DT_Accuracy = accuracy_score(Y_test, DT_Predict)\n",
    "print(\"Accuracy: \" + str(DT_Accuracy))\n",
    "\n",
    "DT_AUC = roc_auc_score(Y_test, DT_Predict) \n",
    "print(\"AUC: \" + str(DT_AUC))"
   ]
  },
  {
   "cell_type": "markdown",
   "metadata": {},
   "source": [
    "# KNN"
   ]
  },
  {
   "cell_type": "code",
   "execution_count": 15,
   "metadata": {},
   "outputs": [
    {
     "name": "stdout",
     "output_type": "stream",
     "text": [
      "0.5670153247385065\n",
      "AUC: 0.5669927374735042\n"
     ]
    }
   ],
   "source": [
    "\n",
    "knn=KNeighborsClassifier(n_neighbors=3)\n",
    "model_2= knn.fit(X_train,Y_train)\n",
    "knn_predict=model_2.predict(X_test)\n",
    "print(accuracy_score(knn_predict,Y_test))\n",
    "\n",
    "KNNAUC = roc_auc_score(Y_test, knn_predict) \n",
    "print(\"AUC: \" + str(KNNAUC))"
   ]
  },
  {
   "cell_type": "markdown",
   "metadata": {},
   "source": [
    "# ADABOOST"
   ]
  },
  {
   "cell_type": "code",
   "execution_count": 16,
   "metadata": {},
   "outputs": [
    {
     "name": "stdout",
     "output_type": "stream",
     "text": [
      "0.7590610557042082\n",
      "AUC: 0.7590283957395593\n"
     ]
    }
   ],
   "source": [
    "from sklearn.ensemble import AdaBoostClassifier\n",
    "abc=AdaBoostClassifier()\n",
    "model_7=abc.fit(X_train,Y_train)\n",
    "abc_predict=model_7.predict(X_test)\n",
    "print(accuracy_score(abc_predict,Y_test))\n",
    "\n",
    "ada = roc_auc_score(Y_test, abc_predict) \n",
    "print(\"AUC: \" + str(ada))"
   ]
  },
  {
   "cell_type": "markdown",
   "metadata": {},
   "source": [
    "# NEURAL NETWORKS"
   ]
  },
  {
   "cell_type": "code",
   "execution_count": 17,
   "metadata": {},
   "outputs": [],
   "source": [
    "from sklearn.preprocessing import StandardScaler\n",
    "sc = StandardScaler()\n",
    "X_train = sc.fit_transform(X_train)\n",
    "X_test = sc.transform(X_test)"
   ]
  },
  {
   "cell_type": "code",
   "execution_count": 18,
   "metadata": {},
   "outputs": [],
   "source": [
    "import tensorflow as tf"
   ]
  },
  {
   "cell_type": "code",
   "execution_count": 19,
   "metadata": {},
   "outputs": [],
   "source": [
    "ann = tf.keras.models.Sequential()"
   ]
  },
  {
   "cell_type": "code",
   "execution_count": 20,
   "metadata": {},
   "outputs": [],
   "source": [
    "ann.add(tf.keras.layers.Dense(units=6, activation='relu'))"
   ]
  },
  {
   "cell_type": "code",
   "execution_count": 21,
   "metadata": {},
   "outputs": [],
   "source": [
    "ann.add(tf.keras.layers.Dense(units=6, activation='relu'))"
   ]
  },
  {
   "cell_type": "code",
   "execution_count": 22,
   "metadata": {},
   "outputs": [],
   "source": [
    "ann.add(tf.keras.layers.Dense(units=1, activation='sigmoid'))"
   ]
  },
  {
   "cell_type": "code",
   "execution_count": 23,
   "metadata": {},
   "outputs": [],
   "source": [
    "ann.compile(optimizer = 'adam', loss = 'binary_crossentropy', metrics = ['accuracy'])"
   ]
  },
  {
   "cell_type": "code",
   "execution_count": 33,
   "metadata": {},
   "outputs": [
    {
     "name": "stdout",
     "output_type": "stream",
     "text": [
      "Epoch 1/50\n",
      "1028/1028 [==============================] - 1s 814us/step - loss: 0.4728 - accuracy: 0.7715\n",
      "Epoch 2/50\n",
      "1028/1028 [==============================] - 1s 834us/step - loss: 0.4727 - accuracy: 0.7727\n",
      "Epoch 3/50\n",
      "1028/1028 [==============================] - 1s 858us/step - loss: 0.4726 - accuracy: 0.7719\n",
      "Epoch 4/50\n",
      "1028/1028 [==============================] - 1s 786us/step - loss: 0.4725 - accuracy: 0.7718\n",
      "Epoch 5/50\n",
      "1028/1028 [==============================] - 1s 814us/step - loss: 0.4725 - accuracy: 0.77250s - loss:\n",
      "Epoch 6/50\n",
      "1028/1028 [==============================] - 1s 810us/step - loss: 0.4724 - accuracy: 0.7713\n",
      "Epoch 7/50\n",
      "1028/1028 [==============================] - 1s 798us/step - loss: 0.4723 - accuracy: 0.7710\n",
      "Epoch 8/50\n",
      "1028/1028 [==============================] - 1s 820us/step - loss: 0.4723 - accuracy: 0.7719\n",
      "Epoch 9/50\n",
      "1028/1028 [==============================] - 1s 782us/step - loss: 0.4723 - accuracy: 0.7723\n",
      "Epoch 10/50\n",
      "1028/1028 [==============================] - 1s 869us/step - loss: 0.4720 - accuracy: 0.7730\n",
      "Epoch 11/50\n",
      "1028/1028 [==============================] - 1s 810us/step - loss: 0.4722 - accuracy: 0.7724\n",
      "Epoch 12/50\n",
      "1028/1028 [==============================] - 1s 816us/step - loss: 0.4721 - accuracy: 0.7720\n",
      "Epoch 13/50\n",
      "1028/1028 [==============================] - 1s 814us/step - loss: 0.4719 - accuracy: 0.7725\n",
      "Epoch 14/50\n",
      "1028/1028 [==============================] - 1s 821us/step - loss: 0.4717 - accuracy: 0.7718\n",
      "Epoch 15/50\n",
      "1028/1028 [==============================] - 1s 797us/step - loss: 0.4718 - accuracy: 0.7718\n",
      "Epoch 16/50\n",
      "1028/1028 [==============================] - 1s 854us/step - loss: 0.4717 - accuracy: 0.7719\n",
      "Epoch 17/50\n",
      "1028/1028 [==============================] - 1s 850us/step - loss: 0.4716 - accuracy: 0.7711\n",
      "Epoch 18/50\n",
      "1028/1028 [==============================] - 1s 835us/step - loss: 0.4715 - accuracy: 0.7710\n",
      "Epoch 19/50\n",
      "1028/1028 [==============================] - 1s 892us/step - loss: 0.4715 - accuracy: 0.7724\n",
      "Epoch 20/50\n",
      "1028/1028 [==============================] - 1s 884us/step - loss: 0.4715 - accuracy: 0.7717\n",
      "Epoch 21/50\n",
      "1028/1028 [==============================] - 1s 845us/step - loss: 0.4711 - accuracy: 0.7714\n",
      "Epoch 22/50\n",
      "1028/1028 [==============================] - 1s 834us/step - loss: 0.4713 - accuracy: 0.7722\n",
      "Epoch 23/50\n",
      "1028/1028 [==============================] - 1s 822us/step - loss: 0.4711 - accuracy: 0.7727\n",
      "Epoch 24/50\n",
      "1028/1028 [==============================] - 1s 827us/step - loss: 0.4710 - accuracy: 0.7707\n",
      "Epoch 25/50\n",
      "1028/1028 [==============================] - 1s 834us/step - loss: 0.4710 - accuracy: 0.7713\n",
      "Epoch 26/50\n",
      "1028/1028 [==============================] - 1s 823us/step - loss: 0.4708 - accuracy: 0.7716\n",
      "Epoch 27/50\n",
      "1028/1028 [==============================] - 1s 829us/step - loss: 0.4709 - accuracy: 0.7715\n",
      "Epoch 28/50\n",
      "1028/1028 [==============================] - 1s 822us/step - loss: 0.4707 - accuracy: 0.7705\n",
      "Epoch 29/50\n",
      "1028/1028 [==============================] - 1s 823us/step - loss: 0.4707 - accuracy: 0.7713\n",
      "Epoch 30/50\n",
      "1028/1028 [==============================] - 1s 827us/step - loss: 0.4705 - accuracy: 0.7718\n",
      "Epoch 31/50\n",
      "1028/1028 [==============================] - 1s 831us/step - loss: 0.4705 - accuracy: 0.7717\n",
      "Epoch 32/50\n",
      "1028/1028 [==============================] - 1s 828us/step - loss: 0.4704 - accuracy: 0.7721\n",
      "Epoch 33/50\n",
      "1028/1028 [==============================] - 1s 827us/step - loss: 0.4706 - accuracy: 0.7711\n",
      "Epoch 34/50\n",
      "1028/1028 [==============================] - 1s 843us/step - loss: 0.4704 - accuracy: 0.7717\n",
      "Epoch 35/50\n",
      "1028/1028 [==============================] - 1s 824us/step - loss: 0.4704 - accuracy: 0.7717\n",
      "Epoch 36/50\n",
      "1028/1028 [==============================] - 1s 830us/step - loss: 0.4701 - accuracy: 0.7724\n",
      "Epoch 37/50\n",
      "1028/1028 [==============================] - 1s 839us/step - loss: 0.4703 - accuracy: 0.7720\n",
      "Epoch 38/50\n",
      "1028/1028 [==============================] - 1s 833us/step - loss: 0.4700 - accuracy: 0.7711\n",
      "Epoch 39/50\n",
      "1028/1028 [==============================] - 1s 831us/step - loss: 0.4699 - accuracy: 0.7731\n",
      "Epoch 40/50\n",
      "1028/1028 [==============================] - 1s 836us/step - loss: 0.4696 - accuracy: 0.7723\n",
      "Epoch 41/50\n",
      "1028/1028 [==============================] - 1s 855us/step - loss: 0.4699 - accuracy: 0.7726\n",
      "Epoch 42/50\n",
      "1028/1028 [==============================] - 1s 835us/step - loss: 0.4697 - accuracy: 0.7715\n",
      "Epoch 43/50\n",
      "1028/1028 [==============================] - 1s 827us/step - loss: 0.4698 - accuracy: 0.7722\n",
      "Epoch 44/50\n",
      "1028/1028 [==============================] - 1s 835us/step - loss: 0.4695 - accuracy: 0.7727\n",
      "Epoch 45/50\n",
      "1028/1028 [==============================] - 1s 823us/step - loss: 0.4695 - accuracy: 0.7717\n",
      "Epoch 46/50\n",
      "1028/1028 [==============================] - 1s 820us/step - loss: 0.4695 - accuracy: 0.7734\n",
      "Epoch 47/50\n",
      "1028/1028 [==============================] - 1s 829us/step - loss: 0.4695 - accuracy: 0.7718\n",
      "Epoch 48/50\n",
      "1028/1028 [==============================] - 1s 821us/step - loss: 0.4694 - accuracy: 0.7718\n",
      "Epoch 49/50\n",
      "1028/1028 [==============================] - 1s 824us/step - loss: 0.4695 - accuracy: 0.7725\n",
      "Epoch 50/50\n",
      "1028/1028 [==============================] - 1s 830us/step - loss: 0.4695 - accuracy: 0.7736\n"
     ]
    }
   ],
   "source": [
    "history = ann.fit(X_train, Y_train, batch_size = 32, epochs = 50)"
   ]
  },
  {
   "cell_type": "code",
   "execution_count": 27,
   "metadata": {},
   "outputs": [
    {
     "data": {
      "text/plain": [
       "(32884, 15)"
      ]
     },
     "execution_count": 27,
     "metadata": {},
     "output_type": "execute_result"
    }
   ],
   "source": [
    "X_train.shape"
   ]
  },
  {
   "cell_type": "code",
   "execution_count": 37,
   "metadata": {},
   "outputs": [
    {
     "data": {
      "image/png": "[encoded data removed]",
      "text/plain": [
       "<Figure size 432x288 with 1 Axes>"
      ]
     },
     "metadata": {
      "needs_background": "light"
     },
     "output_type": "display_data"
    }
   ],
   "source": [
    "plt.plot(history.history['accuracy'],\n",
    "         'b',\n",
    "         label=' Training Accuracy')\n",
    "plt.plot(history.history['accuracy'],\n",
    "         'r',\n",
    "         label='Validation Accuracy')\n",
    "plt.legend(loc='upper right')\n",
    "plt.xlabel('Epochs')\n",
    "plt.ylabel('Accuracy')\n",
    "plt.ylim([0,1])\n",
    "plt.show()"
   ]
  },
  {
   "cell_type": "code",
   "execution_count": 39,
   "metadata": {},
   "outputs": [
    {
     "data": {
      "image/png": "[encoded data removed]",
      "text/plain": [
       "<Figure size 432x288 with 1 Axes>"
      ]
     },
     "metadata": {
      "needs_background": "light"
     },
     "output_type": "display_data"
    }
   ],
   "source": [
    "plt.plot(history.history['loss'],\n",
    "         'b',\n",
    "         label='Training loss')\n",
    "plt.plot(history.history['loss'],\n",
    "         'r',\n",
    "         label='Validation loss')\n",
    "plt.legend(loc='upper right')\n",
    "plt.xlabel('Epochs')\n",
    "plt.ylabel('Loss, [mse]')\n",
    "plt.ylim([0,.1])\n",
    "plt.show()"
   ]
  },
  {
   "cell_type": "markdown",
   "metadata": {},
   "source": [
    "# RANDOM FOREST"
   ]
  },
  {
   "cell_type": "code",
   "execution_count": null,
   "metadata": {},
   "outputs": [],
   "source": []
  }
 ],
 "metadata": {
  "kernelspec": {
   "display_name": "Python 3",
   "language": "python",
   "name": "python3"
  },
  "language_info": {
   "codemirror_mode": {
    "name": "ipython",
    "version": 3
   },
   "file_extension": ".py",
   "mimetype": "text/x-python",
   "name": "python",
   "nbconvert_exporter": "python",
   "pygments_lexer": "ipython3",
   "version": "3.8.3"
  }
 },
 "nbformat": 4,
 "nbformat_minor": 4
}
